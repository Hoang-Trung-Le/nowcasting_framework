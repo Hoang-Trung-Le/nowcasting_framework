{
  "cells": [
    {
      "cell_type": "markdown",
      "metadata": {
        "id": "Jt97tTQp0cfe"
      },
      "source": [
        "# Exploratory Data Analysis"
      ]
    },
    {
      "cell_type": "code",
      "execution_count": null,
      "metadata": {
        "id": "dHxf67UP0cff"
      },
      "outputs": [],
      "source": [
        "import numpy as np\n",
        "import tensorflow as tf\n",
        "from tensorflow import keras"
      ]
    },
    {
      "cell_type": "markdown",
      "source": [
        "#Data"
      ],
      "metadata": {
        "id": "kRWwYA_80jBF"
      }
    },
    {
      "cell_type": "code",
      "execution_count": null,
      "metadata": {
        "id": "UHsj1XCG0cff"
      },
      "outputs": [],
      "source": [
        "def load_data():\n",
        "    X_train = np.load('data/processed/X_train.npy')\n",
        "    y_train = np.load('data/processed/y_train.npy')\n",
        "    X_val = np.load('data/processed/X_val.npy')\n",
        "    y_val = np.load('data/processed/y_val.npy')\n",
        "    return X_train, y_train, X_val, y_val\n",
        "\n",
        "def build_model(input_shape):\n",
        "    model = keras.Sequential([\n",
        "        keras.layers.Dense(32, activation='relu', input_shape=(input_shape,)),\n",
        "        keras.layers.Dense(16, activation='relu'),\n",
        "        keras.layers.Dense(1)\n",
        "    ])\n",
        "    model.compile(optimizer='adam', loss='mean_squared_error')\n",
        "    return model\n",
        "\n",
        "def train_model(X_train, y_train, X_val, y_val):\n",
        "    model = build_model(X_train.shape[1])\n",
        "    model.fit(X_train, y_train, epochs=50, batch_size=32, validation_data=(X_val, y_val))\n",
        "    model.save('models/air_quality_model.h5')\n",
        "\n",
        "def main():\n",
        "    X_train, y_train, X_val, y_val = load_data()\n",
        "    train_model(X_train, y_train, X_val, y_val)"
      ]
    },
    {
      "cell_type": "markdown",
      "source": [],
      "metadata": {
        "id": "8KHwOrTQ0n-z"
      }
    },
    {
      "cell_type": "code",
      "source": [],
      "metadata": {
        "id": "oTOgZ55e0oci"
      },
      "execution_count": null,
      "outputs": []
    }
  ],
  "metadata": {
    "language_info": {
      "name": "python"
    },
    "colab": {
      "provenance": []
    },
    "kernelspec": {
      "name": "python3",
      "display_name": "Python 3"
    }
  },
  "nbformat": 4,
  "nbformat_minor": 0
}